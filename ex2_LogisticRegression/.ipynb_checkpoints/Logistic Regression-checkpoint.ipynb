{
 "cells": [
  {
   "cell_type": "markdown",
   "metadata": {},
   "source": [
    "## Logistic Regression\n",
    "1. [读取数据](#读取数据)\n",
    "2. [画出数据点](#画出数据点)\n",
    "3. [构建模型](#构建模型)\n",
    "4. [梯度下降法优化训练](#梯度下降法优化训练)\n",
    "5. [使用scipy的optimize模块进行优化训练, 并动态演示迭代过程](#scipy)\n",
    "5. [对比matlab的结果](#对比matlab的结果)\n",
    "5. [Plot the convergence graph](#convergenceGraph)\n",
    "4. [使用sklearn训练LogisticRegression模型](#使用sklearn训练LogisticRegression模型)\n",
    "4. [逻辑回归损失函数的推导](#逻辑回归损失函数的推导)"
   ]
  },
  {
   "cell_type": "code",
   "execution_count": 1,
   "metadata": {
    "collapsed": false,
    "scrolled": true
   },
   "outputs": [
    {
     "name": "stderr",
     "output_type": "stream",
     "text": [
      "/home/lsr/anaconda2/lib/python2.7/site-packages/matplotlib/font_manager.py:273: UserWarning: Matplotlib is building the font cache using fc-list. This may take a moment.\n",
      "  warnings.warn('Matplotlib is building the font cache using fc-list. This may take a moment.')\n",
      "Using gpu device 0: GeForce GTX 750 Ti (CNMeM is disabled, CuDNN 3007)\n"
     ]
    }
   ],
   "source": [
    "%matplotlib inline\n",
    "#%pylab\n",
    "import numpy as np\n",
    "import matplotlib.animation as animation \n",
    "import matplotlib.pyplot as plt\n",
    "from matplotlib import style \n",
    "import theano\n",
    "import theano.tensor as T\n",
    "import time"
   ]
  },
  {
   "cell_type": "markdown",
   "metadata": {},
   "source": [
    "### 读取数据"
   ]
  },
  {
   "cell_type": "code",
   "execution_count": 2,
   "metadata": {
    "collapsed": true
   },
   "outputs": [],
   "source": [
    "data  = np.loadtxt('ex2data1.txt', delimiter=',', dtype='float32')\n",
    "X = data[:, [0, 1]]\n",
    "Y= data[:, 2]\n",
    "m = len(X)"
   ]
  },
  {
   "cell_type": "markdown",
   "metadata": {},
   "source": [
    "### 画出数据点"
   ]
  },
  {
   "cell_type": "code",
   "execution_count": 3,
   "metadata": {
    "collapsed": false
   },
   "outputs": [
    {
     "data": {
      "text/plain": [
       "<matplotlib.legend.Legend at 0x7fdf64be2a90>"
      ]
     },
     "execution_count": 3,
     "metadata": {},
     "output_type": "execute_result"
    },
    {
     "data": {
      "image/png": "[encoded data removed]",
      "text/plain": [
       "<matplotlib.figure.Figure at 0x7fdf673dbd50>"
      ]
     },
     "metadata": {},
     "output_type": "display_data"
    }
   ],
   "source": [
    "fig = plt.figure()\n",
    "pos = plt.scatter(X[Y == 1, 0], X[Y == 1, 1], s=32, c='red', marker='x')\n",
    "neg = plt.scatter(X[Y == 0, 0], X[Y == 0, 1], s=32, c='yellow', marker='o')\n",
    "plt.xlabel('Exam 1 score')\n",
    "plt.ylabel('Exam 2 score')\n",
    "plt.legend((pos, neg), ('Admitted', 'Not admitted'), scatterpoints=1, loc='lower left', ncol=1, fontsize=12) # 这样给scatter添加lagend"
   ]
  },
  {
   "cell_type": "code",
   "execution_count": 4,
   "metadata": {
    "collapsed": false
   },
   "outputs": [],
   "source": [
    "# 添加一列 1 在 X 上\n",
    "XTemp = np.ones([m,3], dtype='float32')\n",
    "XTemp[:, [1, 2]] = X\n",
    "X = XTemp"
   ]
  },
  {
   "cell_type": "markdown",
   "metadata": {},
   "source": [
    "#### sigmod function\n",
    "$$ g(z) = \\frac {1} { 1 + e ^ {-z} } $$"
   ]
  },
  {
   "cell_type": "code",
   "execution_count": 5,
   "metadata": {
    "collapsed": true
   },
   "outputs": [],
   "source": [
    "def sigmoid(z):\n",
    "    return 1 / (1 + T.exp(-z))"
   ]
  },
  {
   "cell_type": "markdown",
   "metadata": {},
   "source": [
    "### 构建模型\n",
    "#### hypothesis\n",
    "$$ h _ { \\theta } (x) = g ( \\theta ^ Tx ) $$\n",
    "#### loss function<span id=\"jump\"></span>\n",
    "$$ J ( \\theta ) = \\frac {1} {m} \\sum_{ i=1 } ^ {m} \\left[ - y^ { (i) } \\log ( h_{ \\theta } ( x ^ { (i) } ) ) - (1 - y^{ (i) } ) \\log ( 1 - h_{ \\theta } ( x ^ { (i) } ) ) \\right] $$\n",
    "[逻辑回归损失函数的推导](#logisticLoss)"
   ]
  },
  {
   "cell_type": "code",
   "execution_count": 6,
   "metadata": {
    "collapsed": true
   },
   "outputs": [],
   "source": [
    "x = theano.shared(X, name='x')  # 将训练数据放入gpu (100, 3) \n",
    "y = theano.shared(Y, name='y')  # (100, )\n",
    "theta = theano.shared(np.zeros([3, 1], dtype='float32'), name='theta')\n",
    "alpha = T.scalar('alpha') # 学习率\n",
    "pre_prob = sigmoid(x.dot(theta)) # (100, 1)\n",
    "loss = T.mean(-y.dimshuffle(0, 'x') * T.log(pre_prob) - (1- y.dimshuffle(0, 'x')) * T.log(1 - pre_prob)) # y需要是vector,需要dimshuffle\n",
    "calcLoss = theano.function([], loss)\n",
    "precision = theano.function([], T.eq(T.ge(pre_prob, 0.5), y.dimshuffle(0, 'x')).sum() / T.cast(x.shape[0], 'float32')) # 计算分类准确率"
   ]
  },
  {
   "cell_type": "markdown",
   "metadata": {},
   "source": [
    "#### gradient w.s.t theta\n",
    "$$  \\frac{ \\partial { J ( \\theta ) } } { \\partial { \\theta_j } } = \\frac {1} {m} \\sum_{ i = 1} ^ {m} \\left ( h_{ \\theta } (x^{ (i) } )  - y^{ (i) } \\right ) x_j^{ (i) } $$\n",
    "#### update theta with gradient descent\n",
    "$$ \\theta = \\theta - \\alpha \\nabla \\theta  $$"
   ]
  },
  {
   "cell_type": "code",
   "execution_count": 7,
   "metadata": {
    "collapsed": false
   },
   "outputs": [],
   "source": [
    "grad_all = T.mean((pre_prob - y.dimshuffle(0, 'x')).repeat(3, 1) * x, axis=0)  # 求梯度\n",
    "gradient_step_all = theano.function([alpha],updates={theta : theta - alpha * grad_all.dimshuffle(0, 'x')})  # 梯度下降"
   ]
  },
  {
   "cell_type": "code",
   "execution_count": 8,
   "metadata": {
    "collapsed": false
   },
   "outputs": [],
   "source": [
    "grad_auto = T.grad(loss, theta) # 自动求梯度\n",
    "gradient_step_auto = theano.function([alpha],updates={theta : theta - alpha * grad_auto})"
   ]
  },
  {
   "cell_type": "code",
   "execution_count": 9,
   "metadata": {
    "collapsed": false
   },
   "outputs": [
    {
     "name": "stdout",
     "output_type": "stream",
     "text": [
      "0.693147182465\n",
      "[ -0.1        -12.00921345 -11.26284027]\n",
      "CudaNdarray([[ -0.10000001]\n",
      " [-12.00921631]\n",
      " [-11.26284122]])\n"
     ]
    }
   ],
   "source": [
    "print calcLoss()\n",
    "print grad_all.eval({})\n",
    "print grad_auto.eval({})"
   ]
  },
  {
   "cell_type": "markdown",
   "metadata": {},
   "source": [
    "### 梯度下降法优化训练"
   ]
  },
  {
   "cell_type": "code",
   "execution_count": 10,
   "metadata": {
    "collapsed": false
   },
   "outputs": [
    {
     "name": "stdout",
     "output_type": "stream",
     "text": [
      "[[-4.84879446]\n",
      " [ 0.04555983]\n",
      " [ 0.03848256]]\n",
      "training cost 39.2s\n"
     ]
    }
   ],
   "source": [
    "startTime = time.time() # cpu 39.1s, gpu并没有快\n",
    "# 训练,动态调整梯度\n",
    "theta.set_value(np.zeros([3, 1], dtype='float32'))\n",
    "max_iters = 100000\n",
    "alpha = 0.1\n",
    "best_loss = np.Inf\n",
    "best_theta = theta.get_value()\n",
    "J_history = np.zeros((max_iters, 1))\n",
    "for i in range(max_iters):\n",
    "    theta.set_value(best_theta)\n",
    "    gradient_step_auto(alpha)\n",
    "    tempLoss = calcLoss()\n",
    "    J_history[i] = tempLoss\n",
    "    if tempLoss < best_loss:\n",
    "        best_loss = tempLoss\n",
    "        best_theta = theta.get_value()\n",
    "    else:\n",
    "        alpha = alpha * 0.99\n",
    "endTime = time.time()\n",
    "print theta.get_value()\n",
    "print 'training cost %.1fs' % (endTime - startTime)"
   ]
  },
  {
   "cell_type": "markdown",
   "metadata": {},
   "source": [
    "### 使用scipy的optimize模块进行优化训练, 并动态演示迭代过程<span id='scipy'></span>"
   ]
  },
  {
   "cell_type": "code",
   "execution_count": 11,
   "metadata": {
    "collapsed": false
   },
   "outputs": [],
   "source": [
    "# 计算指定theta时的cost,使用optimize的函数时,传入的待优化参数是一个一维向量,所以要转成二维列向量,并且使用fmin时还需要转成float32类型\n",
    "def computeCost(theta_value):\n",
    "    theta.set_value(theta_value.reshape(3,1).astype('float32'))\n",
    "    return calcLoss()\n",
    "\n",
    "# 计算指定theta时的梯度\n",
    "calcGrad= theano.function([], grad_auto)\n",
    "def train_fn_grad(theta_value):\n",
    "    theta.set_value(theta_value.reshape(3,1).astype('float32'))\n",
    "    return np.array(calcGrad().reshape(3)) # 梯度也要转为一维向量"
   ]
  },
  {
   "cell_type": "code",
   "execution_count": 13,
   "metadata": {
    "collapsed": false
   },
   "outputs": [
    {
     "name": "stdout",
     "output_type": "stream",
     "text": [
      "Optimization terminated successfully.\n",
      "         Current function value: 0.203498\n",
      "         Iterations: 146\n",
      "         Function evaluations: 279\n",
      "[-25.16562154   0.20625054   0.20152201]\n"
     ]
    }
   ],
   "source": [
    "%matplotlib auto\n",
    "from scipy import optimize\n",
    "thetaV = [] # 存储每一次迭代后的结果\n",
    "def optimizeTheta():\n",
    "    # x0传入theta的一维向量形式\n",
    "    result = optimize.fmin(computeCost, x0=np.zeros(3, dtype=theano.config.floatX), maxiter=1000, \n",
    "                           full_output=True, callback=lambda t : thetaV.append(t.reshape(3, 1)))     # 使用fmin求最优解,使用的是Nelder-Mead(单纯形法)\n",
    "    return result[0], result[1]\n",
    "thetaValue, mincost = optimizeTheta()\n",
    "print thetaValue\n",
    "\n",
    "# 动画演示迭代过程\n",
    "def plotDecisionBoundaryAnimation(i): # 动态地画出决策边界\n",
    "    # 先画出数据点\n",
    "    fig.clear()\n",
    "    pos = plt.scatter(X[Y == 1, 1], X[Y == 1, 2], s=32, c='red', marker='x')\n",
    "    neg = plt.scatter(X[Y == 0, 1], X[Y == 0, 2], s=32, c='yellow', marker='o')\n",
    "    plt.xlabel('Exam 1 score')\n",
    "    plt.ylabel('Exam 2 score')\n",
    "    plt.legend((pos, neg), ('Admitted', 'Not admitted'), scatterpoints=1, loc='lower left', ncol=1, fontsize=12) # 这样给scatter添加lagend\n",
    "    # 画决策边界\n",
    "    plot_x = [X[:, 1].min() - 2, X[:, 1].max() + 2]\n",
    "    plot_y = -(thetaV[i][1] * plot_x + thetaV[i][0]) / thetaV[i][2]\n",
    "    plt.plot(plot_x, plot_y)\n",
    "\n",
    "# 动态演示迭代优化的过程\n",
    "fig = plt.figure() \n",
    "ani = animation.FuncAnimation(fig, plotDecisionBoundaryAnimation, frames=len(thetaV), interval = 1) # 每10ms调用一次animate绘图\n",
    "plt.show() "
   ]
  },
  {
   "cell_type": "code",
   "execution_count": 14,
   "metadata": {
    "collapsed": false
   },
   "outputs": [
    {
     "name": "stdout",
     "output_type": "stream",
     "text": [
      "Optimization terminated successfully.\n",
      "         Current function value: 0.203498\n",
      "         Iterations: 146\n",
      "         Function evaluations: 279\n",
      "[[-25.16562154   0.20625054   0.20152201]]\n"
     ]
    }
   ],
   "source": [
    "# 使用minimize函数优化,只有Nelder-Mead才能求出最优解,其他都报nan\n",
    "result = optimize.minimize(computeCost, np.zeros(3, dtype=theano.config.floatX),  method='Nelder-Mead', options={\"maxiter\":500, \"disp\":True} )\n",
    "thetaValue, mincost = np.array([result.x]), result.fun\n",
    "print thetaValue"
   ]
  },
  {
   "cell_type": "code",
   "execution_count": 17,
   "metadata": {
    "collapsed": false
   },
   "outputs": [
    {
     "data": {
      "text/plain": [
       "array(0.8899999856948853)"
      ]
     },
     "execution_count": 17,
     "metadata": {},
     "output_type": "execute_result"
    }
   ],
   "source": [
    "# 使用计算得到的参数进行分类,求出分类准确率\n",
    "theta.set_value(thetaValue.reshape(3, 1).astype('float32')) # 设置theta的值\n",
    "precision()"
   ]
  },
  {
   "cell_type": "code",
   "execution_count": 18,
   "metadata": {
    "collapsed": false
   },
   "outputs": [
    {
     "name": "stdout",
     "output_type": "stream",
     "text": [
      "Warning: Desired error not necessarily achieved due to precision loss.\n",
      "         Current function value: 0.204003\n",
      "         Iterations: 47\n",
      "         Function evaluations: 143\n",
      "         Gradient evaluations: 131\n"
     ]
    }
   ],
   "source": [
    "# 使用共轭梯度法优化,报nan\n",
    "thetaValue = optimize.fmin_cg(\n",
    "    f=computeCost,\n",
    "    x0=np.random.rand(3,1),\n",
    "    fprime=train_fn_grad,\n",
    "    disp=1,\n",
    "    maxiter=1000\n",
    ")"
   ]
  },
  {
   "cell_type": "markdown",
   "metadata": {},
   "source": [
    "### 对比matlab的结果"
   ]
  },
  {
   "cell_type": "code",
   "execution_count": 26,
   "metadata": {
    "collapsed": false
   },
   "outputs": [
    {
     "data": {
      "image/png": "[encoded data removed]",
      "text/plain": [
       "<matplotlib.figure.Figure at 0x7fdf3b08e350>"
      ]
     },
     "metadata": {},
     "output_type": "display_data"
    },
    {
     "data": {
      "image/png": "[encoded data removed]",
      "text/plain": [
       "<matplotlib.figure.Figure at 0x7fdf3b08ef10>"
      ]
     },
     "metadata": {},
     "output_type": "display_data"
    }
   ],
   "source": [
    "%matplotlib inline\n",
    "def plotDecisionBoundary(theta, X, Y): # 画出决策边界\n",
    "    # 先画出数据点\n",
    "    fig = plt.figure()\n",
    "    pos = plt.scatter(X[Y == 1, 1], X[Y == 1, 2], s=32, c='red', marker='x')\n",
    "    neg = plt.scatter(X[Y == 0, 1], X[Y == 0, 2], s=32, c='yellow', marker='o')\n",
    "    plt.xlabel('Exam 1 score')\n",
    "    plt.ylabel('Exam 2 score')\n",
    "    plt.legend((pos, neg), ('Admitted', 'Not admitted'), scatterpoints=1, loc='lower left', ncol=1, fontsize=12) # 这样给scatter添加lagend\n",
    "    # 画决策边界\n",
    "    plot_x = [X[:, 1].min() - 2, X[:, 1].max() + 2]\n",
    "    plot_y = -(theta[1] * plot_x + theta[0]) / theta[2]\n",
    "    plt.plot(plot_x, plot_y)\n",
    "    \n",
    "plotDecisionBoundary(np.array([[-24.932998460539014],[0.204407718945030],[0.199618080892081]]), X, Y) # 这是matlab使用fminunc优化的结果\n",
    "plotDecisionBoundary(theta.get_value(), X, Y) # 我的结果"
   ]
  },
  {
   "cell_type": "markdown",
   "metadata": {},
   "source": [
    "### Plot the convergence graph<span id='convergenceGraph'></span>"
   ]
  },
  {
   "cell_type": "code",
   "execution_count": 31,
   "metadata": {
    "collapsed": false,
    "scrolled": false
   },
   "outputs": [
    {
     "data": {
      "text/plain": [
       "<matplotlib.text.Text at 0x7fdf3a7b4ed0>"
      ]
     },
     "execution_count": 31,
     "metadata": {},
     "output_type": "execute_result"
    },
    {
     "data": {
      "image/png": "[encoded data removed]",
      "text/plain": [
       "<matplotlib.figure.Figure at 0x7fdf3a7bc190>"
      ]
     },
     "metadata": {},
     "output_type": "display_data"
    }
   ],
   "source": [
    "fig = plt.figure() \n",
    "plt.plot(np.arange(max_iters) + 1, J_history)\n",
    "plt.xlim(0, 3000)\n",
    "plt.xlabel('Number of iterations')\n",
    "plt.ylabel('Cost J')"
   ]
  },
  {
   "cell_type": "markdown",
   "metadata": {},
   "source": [
    "### 使用sklearn训练LogisticRegression模型"
   ]
  },
  {
   "cell_type": "code",
   "execution_count": 32,
   "metadata": {
    "collapsed": false
   },
   "outputs": [
    {
     "name": "stdout",
     "output_type": "stream",
     "text": [
      "0.89\n",
      "[[  4.70324044e-17   2.05353741e-01   2.00582821e-01]]\n"
     ]
    }
   ],
   "source": [
    "from sklearn.linear_model import LogisticRegression  \n",
    "lr = LogisticRegression(solver='newton-cg') # 或者使用liblinear...\n",
    "lr.fit(X,Y) # 训练\n",
    "print (lr.predict(X) == Y).sum()/100.0 # 计算准确率\n",
    "print lr.coef_ # 系数?"
   ]
  },
  {
   "cell_type": "markdown",
   "metadata": {},
   "source": [
    "### 逻辑回归损失函数的推导<span id='logisticLoss'></span>"
   ]
  },
  {
   "cell_type": "markdown",
   "metadata": {
    "collapsed": true
   },
   "source": [
    "由于sigmoid函数的定义域是$ ( -\\infty , + \\infty ) $,而值域为$ ( 0 , 1 ) $，可以看做是概率的表示，我们将sigmoid函数看成样本数据的概率密度函数，每一个样本点，都可以通过sigmoid函数计算出其概率密度。   \n",
    "考虑$x$具有p个独立变量的向量$ x^T = ( x_1 , x_2 , \\cdots , x_p ) $，设条件概率$ P ( Y=1 \\mid x ; \\theta ) = p $为给定$x$，$Y = 1$的概率。逻辑回归模型可表示为:\n",
    "$$ \n",
    "\\begin{align} \n",
    "\t& h_{ \\theta } (x) = \\frac {1} { 1 + e^{ - \\theta^Tx } }  \\notag \\\\\n",
    "\t& P ( Y = 1 \\mid x ; \\theta ) = h_{ \\theta } (x) \\notag \\\\\n",
    "\t& P ( Y = 0 \\mid x; \\theta) = 1 - h_{ \\theta } (x)  \\notag\n",
    "\\end{align}\n",
    "$$   \n",
    "假设有n个观测样本，观测值分别为$ y_1 , y_2 , \\cdots , y_n $，设$ p_i = P ( y^{ (i) } = 1 \\mid x^{ (i) } : \\theta ) $为给定条件下得到$ y_i = 1 $的概率，在同样条件下得到$ y_i = 0 $的条件概率为$ P( y^{ (i) } = 0 \\mid x^{ (i) } : \\theta ) = 1 - p_i $。于是，得到一个观测值的概率为：\n",
    "$$ \n",
    "\\begin{align} \n",
    "\tP(y_i) &= p_i^{ y^{ (i) } } ( 1 - p_i )^{ 1 - y^{ (i) } } \\notag \\\\\n",
    "\t\t     &= \\left ( h_{\\theta} (x^{ (i) }) \\right )^{ y^{ (i) } } \\left( 1 - h_{\\theta} (x^{ (i) }) \\right )^{1- y^{ (i) } }  \\notag\n",
    "\\end{align}\n",
    "$$   \n",
    "因为各项观测独立，所以它们的联合分布可以表示为各边际分布的乘积：\n",
    "$$ \n",
    "\\begin{align} \n",
    "\tL ( \\theta ) &= p( \\vec y \\mid X ; \\theta ) \\notag \\\\\n",
    "\t\t\t\t\t  &= \\prod_{i=1}^n p \\left ( y^{(i)} \\mid x^{(i)} ; \\theta \\right ) \\notag \\\\\n",
    "\t\t\t\t\t  &= \\prod_{i=1}^n \\left ( h_{\\theta} (x^{(i)}) \\right )^{ y^{(i)} } \\left( 1 - h_{\\theta} (x^{(i)}) \\right )^{1- y^{(i)} }  \\notag\n",
    "\\end{align}\n",
    "$$   \n",
    "上式称为n个观测的似然函数。我们的目标是能够求出使这一似然函数的值最大的参数估计。于是，最大似然估计的关键就是求出参数$\\theta$，使上式取得最大值。   \n",
    "对上述函数求对数：   \n",
    "$$ \n",
    "\\begin{align} \n",
    "\t\\ell ( \\theta ) &= \\log L( \\theta ) \\notag \\\\\n",
    "\t                      &= \\sum_{ i = 1 }^n y^{(i)} \\log h( x^{(i)} ) + ( 1 - y^{(i)}) \\log ( 1 - h ( x^{(i)} ) ) \\notag\n",
    "\\end{align}\n",
    "$$    \n",
    "取负之后，恰恰就是最小化cross entropy！\n",
    "\n"
   ]
  }
 ],
 "metadata": {
  "kernelspec": {
   "display_name": "Python 2",
   "language": "python",
   "name": "python2"
  },
  "language_info": {
   "codemirror_mode": {
    "name": "ipython",
    "version": 2
   },
   "file_extension": ".py",
   "mimetype": "text/x-python",
   "name": "python",
   "nbconvert_exporter": "python",
   "pygments_lexer": "ipython2",
   "version": "2.7.11"
  }
 },
 "nbformat": 4,
 "nbformat_minor": 0
}
