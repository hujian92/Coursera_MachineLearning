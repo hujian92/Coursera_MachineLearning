{
 "cells": [
  {
   "cell_type": "markdown",
   "metadata": {},
   "source": [
    "## Linear regression with multiple variables\n",
    "1. [读取数据](#读取数据)\n",
    "2. [画出数据直方图](#画出数据直方图)\n",
    "3. [构建模型](#构建模型)\n",
    "4. [梯度下降训练模型](#梯度下降训练模型)\n",
    "5. [Plot the convergence graph](#pcg)\n",
    "5. [另一种画convergence graph的方式](#cg)\n",
    "5. [预测一个新的样本](#预测一个新的样本)\n",
    "5. [正规方程求解](#正规方程求解)"
   ]
  },
  {
   "cell_type": "code",
   "execution_count": 1,
   "metadata": {
    "collapsed": true
   },
   "outputs": [
    {
     "name": "stderr",
     "output_type": "stream",
     "text": [
      "/home/lsr/anaconda2/lib/python2.7/site-packages/matplotlib/font_manager.py:273: UserWarning: Matplotlib is building the font cache using fc-list. This may take a moment.\n",
      "  warnings.warn('Matplotlib is building the font cache using fc-list. This may take a moment.')\n",
      "Using gpu device 0: GeForce GTX 750 Ti (CNMeM is disabled, CuDNN 3007)\n"
     ]
    }
   ],
   "source": [
    "%matplotlib inline\n",
    "# %pylab\n",
    "import numpy as np\n",
    "import matplotlib.animation as animation \n",
    "import matplotlib.pyplot as plt\n",
    "from matplotlib import style \n",
    "import theano\n",
    "import theano.tensor as T"
   ]
  },
  {
   "cell_type": "markdown",
   "metadata": {},
   "source": [
    "### 读取数据"
   ]
  },
  {
   "cell_type": "code",
   "execution_count": 2,
   "metadata": {
    "collapsed": true
   },
   "outputs": [],
   "source": [
    "data = np.loadtxt('ex1data2.txt', delimiter=',')\n",
    "m = len(data)\n",
    "xt = np.ones((m, 3))\n",
    "xt[:, (1, 2)] = data[:, (0, 1)] # 给x添加一列1'\n",
    "labelt = np.zeros((m, 1))\n",
    "labelt[:, 0] = data[:, 2]"
   ]
  },
  {
   "cell_type": "code",
   "execution_count": 3,
   "metadata": {
    "collapsed": true
   },
   "outputs": [],
   "source": [
    "# 特征尺度变换\n",
    "def featureNormalize(x): \n",
    "    mu = x.mean(0)\n",
    "    #sigma = x.std(0) # 估计的是总体标注差,除以的是m, matlab中是除以m - 1,估计样本标准差\n",
    "    sigma = np.sqrt(((x - mu) ** 2).sum(0) / (len(x) - 1)) # 样本标准差\n",
    "    x_norm = (x - mu) / sigma\n",
    "    return x_norm, mu, sigma"
   ]
  },
  {
   "cell_type": "markdown",
   "metadata": {},
   "source": [
    "### 画出数据直方图"
   ]
  },
  {
   "cell_type": "code",
   "execution_count": 5,
   "metadata": {
    "collapsed": false
   },
   "outputs": [
    {
     "data": {
      "image/png": "[encoded data removed]",
      "text/plain": [
       "<matplotlib.figure.Figure at 0x7f504120dad0>"
      ]
     },
     "metadata": {},
     "output_type": "display_data"
    }
   ],
   "source": [
    "plt.grid(True)\n",
    "plt.xlim([-100,5000])\n",
    "dummy = plt.hist(xt[:,0],label = 'col1')\n",
    "dummy = plt.hist(xt[:,1],label = 'col2')\n",
    "dummy = plt.hist(xt[:,2],label = 'col3')\n",
    "plt.title('Clearly we need feature normalization.')\n",
    "plt.xlabel('Column Value')\n",
    "plt.ylabel('Counts')\n",
    "dummy = plt.legend()"
   ]
  },
  {
   "cell_type": "code",
   "execution_count": 6,
   "metadata": {
    "collapsed": false
   },
   "outputs": [],
   "source": [
    "# feature normalization\n",
    "xt = np.ones((m, 3))\n",
    "xt[:, (1, 2)], mu, sigma = featureNormalize(data[:, (0, 1)]) # 对特征进行尺度变换,然后添加一列 1"
   ]
  },
  {
   "cell_type": "code",
   "execution_count": 7,
   "metadata": {
    "collapsed": false
   },
   "outputs": [
    {
     "data": {
      "image/png": "[encoded data removed]",
      "text/plain": [
       "<matplotlib.figure.Figure at 0x7f5040d661d0>"
      ]
     },
     "metadata": {},
     "output_type": "display_data"
    }
   ],
   "source": [
    "#Quick visualize the feature-normalized data\n",
    "plt.grid(True)\n",
    "plt.xlim([-5,5])\n",
    "dummy = plt.hist(xt[:,0],label = 'col1')\n",
    "dummy = plt.hist(xt[:,1],label = 'col2')\n",
    "dummy = plt.hist(xt[:,2],label = 'col3')\n",
    "plt.title('Feature Normalization Accomplished')\n",
    "plt.xlabel('Column Value')\n",
    "plt.ylabel('Counts')\n",
    "dummy = plt.legend()"
   ]
  },
  {
   "cell_type": "markdown",
   "metadata": {},
   "source": [
    "### 构建模型"
   ]
  },
  {
   "cell_type": "code",
   "execution_count": 8,
   "metadata": {
    "collapsed": false
   },
   "outputs": [],
   "source": [
    "x = T.matrix(name='x', dtype='float64') #  (47 3)\n",
    "theta_np = np.zeros((3, 1), dtype='float64') \n",
    "label = T.matrix(name='label', dtype='float64') # (47 1)\n",
    "alpha = T.scalar(name='alpha', dtype='float64')\n",
    "theta = theano.shared(theta_np, name='theta') # (3, 1)"
   ]
  },
  {
   "cell_type": "code",
   "execution_count": 9,
   "metadata": {
    "collapsed": false
   },
   "outputs": [],
   "source": [
    "y = x.dot(theta) # (47 1)\n",
    "predict = theano.function([x], y)\n",
    "loss = T.mean((y - label) ** 2) / 2 # scalar\n",
    "calcLoss = theano.function([x, label], loss)\n",
    "grad_a = T.mean(y - label) # 手动公式求导, scalar\n",
    "grad_b = T.mean((y - label) * (x[:, 1]).dimshuffle(0, 'x')) #  (y-label)的shape是(47,1),而x[:, 1]的shape是(47,)所有需要使用dimshuffle变成(47,1)\n",
    "grad_c = T.mean((y - label) * (x[:, 2]).dimshuffle(0, 'x')) \n",
    "gradient_step = theano.function([x, label, alpha],updates={theta : theta - alpha * T.stack([[grad_a], [grad_b], [grad_c]])}) # 需要这样stack,或者.dimshuffle(0, 'x')"
   ]
  },
  {
   "cell_type": "code",
   "execution_count": 11,
   "metadata": {
    "collapsed": false
   },
   "outputs": [],
   "source": [
    "grad_all =  T.mean((y - label).repeat(3, 1) * x, axis=0)  # 另一种手动求导,一次性求三个变量\n",
    "gradient_step_all = theano.function([x, label, alpha],updates={theta : theta - alpha * grad_all.dimshuffle(0, 'x')}) "
   ]
  },
  {
   "cell_type": "code",
   "execution_count": 12,
   "metadata": {
    "collapsed": true
   },
   "outputs": [],
   "source": [
    "grad = T.grad(loss, theta) # 自动求导\n",
    "gradient_step_auto = theano.function([x, label, alpha],updates={theta : theta - alpha * grad}) # 自动求导的gradient_step"
   ]
  },
  {
   "cell_type": "code",
   "execution_count": 13,
   "metadata": {
    "collapsed": false
   },
   "outputs": [
    {
     "data": {
      "text/plain": [
       "array(65591548106.45744)"
      ]
     },
     "execution_count": 13,
     "metadata": {},
     "output_type": "execute_result"
    }
   ],
   "source": [
    "calcLoss(xt,labelt)"
   ]
  },
  {
   "cell_type": "markdown",
   "metadata": {},
   "source": [
    "### 梯度下降训练模型"
   ]
  },
  {
   "cell_type": "code",
   "execution_count": 14,
   "metadata": {
    "collapsed": false
   },
   "outputs": [
    {
     "name": "stdout",
     "output_type": "stream",
     "text": [
      "[[ 340412.65957447]\n",
      " [ 110631.05027884]\n",
      " [  -6649.47427082]]\n"
     ]
    }
   ],
   "source": [
    "# 直接训练train\n",
    "theta.set_value(theta_np)\n",
    "num_iters = 8500\n",
    "J_history = np.zeros((num_iters, 1))\n",
    "for i in range(num_iters):\n",
    "    gradient_step(xt, labelt, 0.01)\n",
    "    J_history[i] = calcLoss(xt, labelt)\n",
    "thetaResult = theta.get_value()\n",
    "print thetaResult"
   ]
  },
  {
   "cell_type": "markdown",
   "metadata": {},
   "source": [
    "### Plot the convergence graph<span id='pcg'/>"
   ]
  },
  {
   "cell_type": "code",
   "execution_count": 15,
   "metadata": {
    "collapsed": false
   },
   "outputs": [
    {
     "data": {
      "text/plain": [
       "<matplotlib.text.Text at 0x7f502f5b0550>"
      ]
     },
     "execution_count": 15,
     "metadata": {},
     "output_type": "execute_result"
    },
    {
     "data": {
      "image/png": "[encoded data removed]",
      "text/plain": [
       "<matplotlib.figure.Figure at 0x7f503002c1d0>"
      ]
     },
     "metadata": {},
     "output_type": "display_data"
    }
   ],
   "source": [
    "fig = plt.figure() \n",
    "plt.plot(J_history, np.arange(num_iters) + 1)\n",
    "plt.xlabel('Number of iterations')\n",
    "plt.ylabel('Cost J')"
   ]
  },
  {
   "cell_type": "markdown",
   "metadata": {},
   "source": [
    "### 另一种画convergence graph的方式<span id='cg'></span>"
   ]
  },
  {
   "cell_type": "code",
   "execution_count": 16,
   "metadata": {
    "collapsed": false
   },
   "outputs": [
    {
     "data": {
      "image/png": "[encoded data removed]",
      "text/plain": [
       "<matplotlib.figure.Figure at 0x7f5030044ed0>"
      ]
     },
     "metadata": {},
     "output_type": "display_data"
    }
   ],
   "source": [
    "#Plot the convergence of the cost function\n",
    "def plotConvergence(jvec):\n",
    "    plt.figure(figsize=(10,6))\n",
    "    plt.plot(range(len(jvec)),jvec,'bo')\n",
    "    plt.grid(True)\n",
    "    plt.title(\"Convergence of Cost Function\")\n",
    "    plt.xlabel(\"Iteration number\")\n",
    "    plt.ylabel(\"Cost function\")\n",
    "    dummy = plt.xlim([-0.05*num_iters,1.05*num_iters])\n",
    "    #dummy = plt.ylim([4,8])\n",
    "    \n",
    "plotConvergence(J_history)"
   ]
  },
  {
   "cell_type": "markdown",
   "metadata": {},
   "source": [
    "### 预测一个新的样本"
   ]
  },
  {
   "cell_type": "code",
   "execution_count": 17,
   "metadata": {
    "collapsed": false
   },
   "outputs": [],
   "source": [
    "def predict(ytest, theta):\n",
    "    ytest = np.array(ytest)\n",
    "    ytestscaled = [(ytest[x]-mu[x])/sigma[x] for x in xrange(len(ytest))] # feature normalization,\n",
    "    ytestscaled.insert(0,1)\n",
    "    return float(np.array([ytestscaled]).dot(theta))"
   ]
  },
  {
   "cell_type": "code",
   "execution_count": 18,
   "metadata": {
    "collapsed": false
   },
   "outputs": [
    {
     "name": "stdout",
     "output_type": "stream",
     "text": [
      "Check of result: What is price of house with 1650 square feet and 3 bedrooms?\n",
      "$293081.46\n"
     ]
    }
   ],
   "source": [
    "#print \"Final result theta parameters: \\n\",theta\n",
    "print \"Check of result: What is price of house with 1650 square feet and 3 bedrooms?\"\n",
    "ytest = np.array([1650.,3.])\n",
    "print \"$%0.2f\" % predict(ytest, theta.get_value())"
   ]
  },
  {
   "cell_type": "markdown",
   "metadata": {},
   "source": [
    "### 正规方程求解\n",
    "$\\theta = \\left( X^T X \\right)^{-1} X^T y $"
   ]
  },
  {
   "cell_type": "code",
   "execution_count": 19,
   "metadata": {
    "collapsed": true
   },
   "outputs": [],
   "source": [
    "from numpy.linalg import inv\n",
    "#Implementation of normal equation to find analytic solution to linear regression\n",
    "def normEqtn(X,y):\n",
    "    #restheta = np.zeros((X.shape[1],1))\n",
    "    return np.dot(np.dot(inv(np.dot(X.T,X)),X.T),y)"
   ]
  },
  {
   "cell_type": "code",
   "execution_count": 20,
   "metadata": {
    "collapsed": false
   },
   "outputs": [
    {
     "name": "stdout",
     "output_type": "stream",
     "text": [
      "Normal equation prediction for price of house with 1650 square feet and 3 bedrooms\n",
      "$293081.46\n"
     ]
    }
   ],
   "source": [
    "print \"Normal equation prediction for price of house with 1650 square feet and 3 bedrooms\"\n",
    "print \"$%0.2f\" % predict(ytest, normEqtn(xt,labelt))"
   ]
  }
 ],
 "metadata": {
  "kernelspec": {
   "display_name": "Python 2",
   "language": "python",
   "name": "python2"
  },
  "language_info": {
   "codemirror_mode": {
    "name": "ipython",
    "version": 2
   },
   "file_extension": ".py",
   "mimetype": "text/x-python",
   "name": "python",
   "nbconvert_exporter": "python",
   "pygments_lexer": "ipython2",
   "version": "2.7.11"
  }
 },
 "nbformat": 4,
 "nbformat_minor": 0
}
