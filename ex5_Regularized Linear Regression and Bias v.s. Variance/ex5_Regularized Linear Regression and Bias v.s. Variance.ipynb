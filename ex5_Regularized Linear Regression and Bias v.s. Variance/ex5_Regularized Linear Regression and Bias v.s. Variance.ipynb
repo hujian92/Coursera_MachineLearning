{
 "cells": [
  {
   "cell_type": "markdown",
   "metadata": {},
   "source": [
    "## Regularized Linear Regression and Bias v.s. Variance\n",
    "1. [读取数据](#读取数据)\n",
    "2. [画出数字](#画出数字)\n",
    "3. [构建模型(正则化的线性回归模型)](#bd)\n",
    "4. [使用scipy.optimize优化算法训练](#训练模型)\n",
    "4. [画出学习曲线](#画出学习曲线)\n",
    "4. [多项式回归( Polynomial regression)](#pr)\n",
    "4. [使用交叉验证集(cross validation set)选择λ](#cv)\n",
    "3. [计算测试集误差](#计算测试集误差)"
   ]
  },
  {
   "cell_type": "code",
   "execution_count": 1,
   "metadata": {
    "collapsed": false
   },
   "outputs": [
    {
     "name": "stderr",
     "output_type": "stream",
     "text": [
      "Using gpu device 0: GeForce GTX 750 Ti (CNMeM is disabled, CuDNN 3007)\n",
      "/home/lsr/anaconda2/lib/python2.7/site-packages/matplotlib/font_manager.py:273: UserWarning: Matplotlib is building the font cache using fc-list. This may take a moment.\n",
      "  warnings.warn('Matplotlib is building the font cache using fc-list. This may take a moment.')\n"
     ]
    }
   ],
   "source": [
    "import numpy as np\n",
    "import theano\n",
    "import theano.tensor as T\n",
    "import time\n",
    "import scipy.io as sio\n",
    "from scipy import optimize\n",
    "import matplotlib.pyplot as plt\n",
    "%matplotlib inline"
   ]
  },
  {
   "cell_type": "markdown",
   "metadata": {},
   "source": [
    "### 读取数据"
   ]
  },
  {
   "cell_type": "code",
   "execution_count": 2,
   "metadata": {
    "collapsed": true
   },
   "outputs": [],
   "source": [
    "data = sio.loadmat('ex5data1.mat')\n",
    "X = data['X'].astype('float32') # (12 ,1)\n",
    "y = data['y'].astype('float32') # (12 ,1)\n",
    "Xval = data['Xval'].astype('float32')  # (21 ,1)\n",
    "yval = data['yval'].astype('float32') # (21 ,1)\n",
    "Xtest = data['Xtest'].astype('float32') # (21 ,1)\n",
    "ytest = data['ytest'].astype('float32') # (21 ,1)"
   ]
  },
  {
   "cell_type": "code",
   "execution_count": 3,
   "metadata": {
    "collapsed": false,
    "scrolled": true
   },
   "outputs": [
    {
     "data": {
      "text/plain": [
       "<matplotlib.text.Text at 0x7f1917dfa990>"
      ]
     },
     "execution_count": 3,
     "metadata": {},
     "output_type": "execute_result"
    },
    {
     "data": {
      "image/png": "[encoded data removed]",
      "text/plain": [
       "<matplotlib.figure.Figure at 0x7f191a197610>"
      ]
     },
     "metadata": {},
     "output_type": "display_data"
    }
   ],
   "source": [
    "# plot training data\n",
    "plt.scatter(X, y, c='red', marker=u'x')\n",
    "plt.xlim(-50 ,40)\n",
    "plt.ylim(0 ,40)\n",
    "plt.xlabel('Change in water level(x)')\n",
    "plt.ylabel('Water flowing out of the dam(y)')"
   ]
  },
  {
   "cell_type": "markdown",
   "metadata": {},
   "source": [
    "### 构建模型(正则化的线性回归模型)<span id='bd'/>"
   ]
  },
  {
   "cell_type": "code",
   "execution_count": 4,
   "metadata": {
    "collapsed": false
   },
   "outputs": [],
   "source": [
    "class Model(object):\n",
    "\n",
    "    def __init__(self, input, target):\n",
    "        self.X = input\n",
    "        self.Y = target\n",
    "        self.X_theano = theano.shared(self.X, name='x') # (m ,n)\n",
    "        self.Y_theano = theano.shared(self.Y, name='y') # (m, 1)\n",
    "        self.thetaAll = theano.shared(np.ones(self.X.shape[1] + 1), name='theta') # (n+1, )\n",
    "        theta = T.reshape(self.thetaAll[0 : self.X_theano.shape[1]], [self.X_theano.shape[1], 1]) # (n, 1)\n",
    "        b = self.thetaAll[self.X_theano.shape[1] :] # (1, )\n",
    "        lambdaVal = T.scalar(name='lambda')\n",
    "\n",
    "        pred = T.dot(self.X_theano, theta) + b # (m, 1)\n",
    "\n",
    "        cost = T.mean((pred - self.Y_theano) ** 2) / 2 + T.sum(theta ** 2) * lambdaVal / (2 * self.X_theano.shape[0])\n",
    "        gradTheta = T.dot(self.X_theano.T, pred - self.Y_theano) / self.X_theano.shape[0] + theta * lambdaVal /  self.X_theano.shape[0] # (n, 1)\n",
    "        gradB = T.mean(pred - self.Y_theano) # (1, )\n",
    "        gradAll = T.concatenate([T.flatten(gradTheta), T.flatten(gradB)]) # (n+1, ) \n",
    "        gradAll_auto = T.grad(cost, self.thetaAll) # (n+1, )\n",
    "\n",
    "        self.calcLoss = theano.function([lambdaVal], cost)\n",
    "        self.calcGrad = theano.function([lambdaVal], gradAll)\n",
    "        self.calcPred = theano.function([], pred)"
   ]
  },
  {
   "cell_type": "code",
   "execution_count": 5,
   "metadata": {
    "collapsed": false
   },
   "outputs": [
    {
     "data": {
      "text/plain": [
       "array(303.95151862212845)"
      ]
     },
     "execution_count": 5,
     "metadata": {},
     "output_type": "execute_result"
    }
   ],
   "source": [
    "# initial model\n",
    "model = Model(X, y) \n",
    "model.calcLoss(0)"
   ]
  },
  {
   "cell_type": "markdown",
   "metadata": {},
   "source": [
    "### 训练模型"
   ]
  },
  {
   "cell_type": "code",
   "execution_count": 6,
   "metadata": {
    "collapsed": true
   },
   "outputs": [],
   "source": [
    "# 计算指定theta时的cost,使用optimize的函数时,传入的待优化参数是一个一维向量,所以要转成二维列向量,并且使用fmin时还需要转成float32类型\n",
    "def computeCost(theta_value, theta, lambdaVal):\n",
    "    theta.set_value(theta_value.astype('float32'))\n",
    "    return model.calcLoss(lambdaVal)\n",
    "\n",
    "# 计算指定theta时的梯度\n",
    "def train_fn_grad(theta_value, theta, lambdaVal):\n",
    "    theta.set_value(theta_value.astype('float32'))\n",
    "    return model.calcGrad(lambdaVal).flatten() # 梯度也要转为一维向量\n",
    "\n",
    "def trainModel(X, Y, lambdaVal):\n",
    "    model.X_theano.set_value(X)\n",
    "    model.Y_theano.set_value(Y)\n",
    "\n",
    "    start_time = time.time()\n",
    "    x0 = np.zeros(X.shape[1] + 1)\n",
    "    args = (model.thetaAll, lambdaVal) # lambdaVal\n",
    "    maxiter = 200\n",
    "    # 使用共轭梯度法优化\n",
    "    thetaV = [] # 存储每一次迭代后的结果\n",
    "    thetaValue = optimize.fmin_cg( # or fmin_bfgs\n",
    "        f=computeCost,\n",
    "        x0=x0,\n",
    "        fprime=train_fn_grad,\n",
    "        args=args,\n",
    "        disp=1,\n",
    "        maxiter=maxiter\n",
    "    )\n",
    "    model.thetaAll.set_value(thetaValue)\n",
    "    end_time = time.time()\n",
    "    print 'training cost %.2f s' % (end_time - start_time)"
   ]
  },
  {
   "cell_type": "code",
   "execution_count": 7,
   "metadata": {
    "collapsed": false
   },
   "outputs": [
    {
     "name": "stdout",
     "output_type": "stream",
     "text": [
      "Warning: Desired error not necessarily achieved due to precision loss.\n",
      "         Current function value: 22.373906\n",
      "         Iterations: 2\n",
      "         Function evaluations: 47\n",
      "         Gradient evaluations: 35\n",
      "training cost 0.02 s\n"
     ]
    }
   ],
   "source": [
    "# train\n",
    "trainModel(X, y, 0)"
   ]
  },
  {
   "cell_type": "code",
   "execution_count": 8,
   "metadata": {
    "collapsed": false
   },
   "outputs": [
    {
     "data": {
      "text/plain": [
       "[<matplotlib.lines.Line2D at 0x7f1910a27cd0>]"
      ]
     },
     "execution_count": 8,
     "metadata": {},
     "output_type": "execute_result"
    },
    {
     "data": {
      "image/png": "[encoded data removed]",
      "text/plain": [
       "<matplotlib.figure.Figure at 0x7f1910a27d10>"
      ]
     },
     "metadata": {},
     "output_type": "display_data"
    }
   ],
   "source": [
    "# Plot fit over the data\n",
    "plt.scatter(X, y, c='red', marker=u'x')\n",
    "plt.xlim(-50 ,40)\n",
    "plt.ylim(-5 ,40)\n",
    "plt.xlabel('Change in water level(x)')\n",
    "plt.ylabel('Water flowing out of the dam(y)')\n",
    "plt.plot(X, model.calcPred())"
   ]
  },
  {
   "cell_type": "markdown",
   "metadata": {},
   "source": [
    "### 画出学习曲线"
   ]
  },
  {
   "cell_type": "code",
   "execution_count": 9,
   "metadata": {
    "collapsed": false
   },
   "outputs": [],
   "source": [
    "def learningCurve(X, y, Xval, yval, lambdaVal):\n",
    "    trainingCost = []\n",
    "    validCost = []\n",
    "    for i in np.arange(X.shape[0]) + 1:\n",
    "        trainModel(X[0 : i, :], y[0 : i, :], lambdaVal)\n",
    "        trainingCost.append(model.calcLoss(lambdaVal))\n",
    "        model.X_theano.set_value(Xval)\n",
    "        model.Y_theano.set_value(yval)\n",
    "        validCost.append(model.calcLoss(lambdaVal))\n",
    "    return trainingCost, validCost"
   ]
  },
  {
   "cell_type": "code",
   "execution_count": 10,
   "metadata": {
    "collapsed": true
   },
   "outputs": [
    {
     "name": "stdout",
     "output_type": "stream",
     "text": [
      "Optimization terminated successfully.\n",
      "         Current function value: 0.000000\n",
      "         Iterations: 7\n",
      "         Function evaluations: 35\n",
      "         Gradient evaluations: 35\n",
      "training cost 0.01 s\n",
      "Optimization terminated successfully.\n",
      "         Current function value: 0.001307\n",
      "         Iterations: 3\n",
      "         Function evaluations: 8\n",
      "         Gradient evaluations: 8\n",
      "training cost 0.00 s\n",
      "Warning: Desired error not necessarily achieved due to precision loss.\n",
      "         Current function value: 3.335017\n",
      "         Iterations: 6\n",
      "         Function evaluations: 52\n",
      "         Gradient evaluations: 40\n",
      "training cost 0.02 s\n",
      "Warning: Desired error not necessarily achieved due to precision loss.\n",
      "         Current function value: 2.881847\n",
      "         Iterations: 9\n",
      "         Function evaluations: 63\n",
      "         Gradient evaluations: 51\n",
      "training cost 0.02 s\n",
      "Optimization terminated successfully.\n",
      "         Current function value: 13.174273\n",
      "         Iterations: 20\n",
      "         Function evaluations: 34\n",
      "         Gradient evaluations: 34\n",
      "training cost 0.01 s\n",
      "Warning: Desired error not necessarily achieved due to precision loss.\n",
      "         Current function value: 19.461396\n",
      "         Iterations: 18\n",
      "         Function evaluations: 102\n",
      "         Gradient evaluations: 89\n",
      "training cost 0.04 s\n",
      "Optimization terminated successfully.\n",
      "         Current function value: 20.112149\n",
      "         Iterations: 12\n",
      "         Function evaluations: 20\n",
      "         Gradient evaluations: 20\n",
      "training cost 0.01 s\n",
      "Optimization terminated successfully.\n",
      "         Current function value: 18.184047\n",
      "         Iterations: 3\n",
      "         Function evaluations: 7\n",
      "         Gradient evaluations: 7\n",
      "training cost 0.00 s\n",
      "Optimization terminated successfully.\n",
      "         Current function value: 22.618880\n",
      "         Iterations: 3\n",
      "         Function evaluations: 7\n",
      "         Gradient evaluations: 7\n",
      "training cost 0.00 s\n",
      "Warning: Desired error not necessarily achieved due to precision loss.\n",
      "         Current function value: 23.268597\n",
      "         Iterations: 2\n",
      "         Function evaluations: 47\n",
      "         Gradient evaluations: 35\n",
      "training cost 0.01 s\n",
      "Optimization terminated successfully.\n",
      "         Current function value: 24.323252\n",
      "         Iterations: 3\n",
      "         Function evaluations: 7\n",
      "         Gradient evaluations: 7\n",
      "training cost 0.00 s\n",
      "Warning: Desired error not necessarily achieved due to precision loss.\n",
      "         Current function value: 22.379541\n",
      "         Iterations: 2\n",
      "         Function evaluations: 47\n",
      "         Gradient evaluations: 35\n",
      "training cost 0.02 s\n"
     ]
    }
   ],
   "source": [
    "trainingCost, validCost = learningCurve(X, y, Xval, yval, 1)"
   ]
  },
  {
   "cell_type": "code",
   "execution_count": 11,
   "metadata": {
    "collapsed": false
   },
   "outputs": [
    {
     "data": {
      "text/plain": [
       "<matplotlib.legend.Legend at 0x7f191068bf10>"
      ]
     },
     "execution_count": 11,
     "metadata": {},
     "output_type": "execute_result"
    },
    {
     "data": {
      "image/png": "[encoded data removed]",
      "text/plain": [
       "<matplotlib.figure.Figure at 0x7f1910a27a90>"
      ]
     },
     "metadata": {},
     "output_type": "display_data"
    }
   ],
   "source": [
    "plt.plot(np.arange(X.shape[0]) + 1, trainingCost)\n",
    "plt.plot(np.arange(X.shape[0]) + 1, validCost)\n",
    "plt.xlim(0, 13)\n",
    "plt.ylim(0, 150)\n",
    "plt.title('Learning curve for linear regression')\n",
    "plt.xlabel('Number of training examples')\n",
    "plt.ylabel('Error')\n",
    "plt.legend(['Train', 'Cross Validation'])"
   ]
  },
  {
   "cell_type": "markdown",
   "metadata": {},
   "source": [
    "### 多项式回归( Polynomial regression)<span id='pr'/>"
   ]
  },
  {
   "cell_type": "code",
   "execution_count": 12,
   "metadata": {
    "collapsed": false
   },
   "outputs": [],
   "source": [
    "def polyFeatures(X, p):\n",
    "    X_ploy = np.zeros([X.shape[0], p])\n",
    "    for i in range(p):\n",
    "        X_ploy[:, i] = X[:,0] ** (i + 1)\n",
    "    return X_ploy.astype('float32')\n",
    "\n",
    "def featureNormalize(x): # 特征尺度变换\n",
    "    mu = x.mean(0)\n",
    "    #sigma = x.std(0) # 估计的是总体标注差,除以的是m, matlab是m - 1\n",
    "    sigma = np.sqrt(((x - mu) ** 2).sum(0) / (len(x) - 1)) # 样本标准差\n",
    "    x_norm = (x - mu) / sigma\n",
    "    return x_norm, mu, sigma"
   ]
  },
  {
   "cell_type": "code",
   "execution_count": 13,
   "metadata": {
    "collapsed": false
   },
   "outputs": [],
   "source": [
    "# feature map and normalize\n",
    "p = 8\n",
    "X_poly = polyFeatures(X, p)\n",
    "X_poly, mu, sigma = featureNormalize(X_poly)\n",
    "\n",
    "X_poly_test =  polyFeatures(Xtest, p)\n",
    "X_poly_test = (X_poly_test - mu) / sigma\n",
    "\n",
    "X_poly_val =  polyFeatures(Xval, p)\n",
    "X_poly_val = (X_poly_val - mu) / sigma"
   ]
  },
  {
   "cell_type": "code",
   "execution_count": 14,
   "metadata": {
    "collapsed": false
   },
   "outputs": [
    {
     "name": "stdout",
     "output_type": "stream",
     "text": [
      "Warning: Desired error not necessarily achieved due to precision loss.\n",
      "         Current function value: 3.469132\n",
      "         Iterations: 2\n",
      "         Function evaluations: 16\n",
      "         Gradient evaluations: 4\n",
      "training cost 0.00 s\n"
     ]
    }
   ],
   "source": [
    "trainModel(X_poly, y, 0)"
   ]
  },
  {
   "cell_type": "code",
   "execution_count": 15,
   "metadata": {
    "collapsed": false,
    "scrolled": false
   },
   "outputs": [
    {
     "data": {
      "text/plain": [
       "[<matplotlib.lines.Line2D at 0x7f19105e8f90>]"
      ]
     },
     "execution_count": 15,
     "metadata": {},
     "output_type": "execute_result"
    },
    {
     "data": {
      "image/png": "[encoded data removed]",
      "text/plain": [
       "<matplotlib.figure.Figure at 0x7f1910700a50>"
      ]
     },
     "metadata": {},
     "output_type": "display_data"
    }
   ],
   "source": [
    "# Plot fit over the data\n",
    "plt.scatter(X, y, c='red', marker=u'x')\n",
    "#plt.xlim(-50 ,40)\n",
    "#plt.ylim(-100 ,40)\n",
    "plt.xlabel('Change in water level(x)')\n",
    "plt.ylabel('Water flowing out of the dam(y)')\n",
    "plt.title('Polynomial Regression Fit (lambda = %f)' % 0.0)\n",
    "\n",
    "xval = np.arange(np.min(X)-15, np.max(X)+25, 0.05)\n",
    "xval.shape = -1, 1\n",
    "xval_poly =  polyFeatures(xval, p)\n",
    "xval_poly = (xval_poly - mu) / sigma\n",
    "model.X_theano.set_value(xval_poly)\n",
    "plt.plot(xval, model.calcPred())"
   ]
  },
  {
   "cell_type": "code",
   "execution_count": 16,
   "metadata": {
    "collapsed": true
   },
   "outputs": [
    {
     "name": "stdout",
     "output_type": "stream",
     "text": [
      "Optimization terminated successfully.\n",
      "         Current function value: 0.000000\n",
      "         Iterations: 1\n",
      "         Function evaluations: 3\n",
      "         Gradient evaluations: 3\n",
      "training cost 0.00 s\n",
      "Optimization terminated successfully.\n",
      "         Current function value: 0.000000\n",
      "         Iterations: 2\n",
      "         Function evaluations: 5\n",
      "         Gradient evaluations: 5\n",
      "training cost 0.00 s\n",
      "Optimization terminated successfully.\n",
      "         Current function value: 0.000000\n",
      "         Iterations: 11\n",
      "         Function evaluations: 21\n",
      "         Gradient evaluations: 21\n",
      "training cost 0.01 s\n",
      "Optimization terminated successfully.\n",
      "         Current function value: 0.000000\n",
      "         Iterations: 61\n",
      "         Function evaluations: 117\n",
      "         Gradient evaluations: 117\n",
      "training cost 0.06 s\n",
      "Optimization terminated successfully.\n",
      "         Current function value: 0.000000\n",
      "         Iterations: 145\n",
      "         Function evaluations: 250\n",
      "         Gradient evaluations: 250\n",
      "training cost 0.11 s\n",
      "Warning: Maximum number of iterations has been exceeded.\n",
      "         Current function value: 0.000000\n",
      "         Iterations: 200\n",
      "         Function evaluations: 365\n",
      "         Gradient evaluations: 365\n",
      "training cost 0.17 s\n",
      "Warning: Maximum number of iterations has been exceeded.\n",
      "         Current function value: 0.000179\n",
      "         Iterations: 200\n",
      "         Function evaluations: 365\n",
      "         Gradient evaluations: 365\n",
      "training cost 0.16 s\n",
      "Warning: Maximum number of iterations has been exceeded.\n",
      "         Current function value: 0.057164\n",
      "         Iterations: 200\n",
      "         Function evaluations: 346\n",
      "         Gradient evaluations: 346\n",
      "training cost 0.16 s\n",
      "Warning: Maximum number of iterations has been exceeded.\n",
      "         Current function value: 0.093388\n",
      "         Iterations: 200\n",
      "         Function evaluations: 355\n",
      "         Gradient evaluations: 355\n",
      "training cost 0.16 s\n",
      "Warning: Maximum number of iterations has been exceeded.\n",
      "         Current function value: 0.118855\n",
      "         Iterations: 200\n",
      "         Function evaluations: 381\n",
      "         Gradient evaluations: 381\n",
      "training cost 0.17 s\n",
      "Warning: Desired error not necessarily achieved due to precision loss.\n",
      "         Current function value: 7.033357\n",
      "         Iterations: 2\n",
      "         Function evaluations: 16\n",
      "         Gradient evaluations: 4\n",
      "training cost 0.00 s\n",
      "Warning: Desired error not necessarily achieved due to precision loss.\n",
      "         Current function value: 3.469132\n",
      "         Iterations: 2\n",
      "         Function evaluations: 16\n",
      "         Gradient evaluations: 4\n",
      "training cost 0.00 s\n"
     ]
    }
   ],
   "source": [
    "trainingCost, validCost = learningCurve(X_poly, y, X_poly_val, yval, 0)"
   ]
  },
  {
   "cell_type": "code",
   "execution_count": 17,
   "metadata": {
    "collapsed": false
   },
   "outputs": [
    {
     "data": {
      "text/plain": [
       "<matplotlib.legend.Legend at 0x7f191012fbd0>"
      ]
     },
     "execution_count": 17,
     "metadata": {},
     "output_type": "execute_result"
    },
    {
     "data": {
      "image/png": "[encoded data removed]",
      "text/plain": [
       "<matplotlib.figure.Figure at 0x7f1910705950>"
      ]
     },
     "metadata": {},
     "output_type": "display_data"
    }
   ],
   "source": [
    "plt.plot(np.arange(X.shape[0]) + 1, trainingCost)\n",
    "plt.plot(np.arange(X.shape[0]) + 1, validCost)\n",
    "plt.xlim(0, 13)\n",
    "plt.ylim(0, 150)\n",
    "plt.title('Learning curve for linear regression (lambda = %f)' % 0.0)\n",
    "plt.xlabel('Number of training examples')\n",
    "plt.ylabel('Error')\n",
    "plt.legend(['Train', 'Cross Validation'])"
   ]
  },
  {
   "cell_type": "markdown",
   "metadata": {},
   "source": [
    "###  使用交叉验证集(cross validation set)选择λ<span id='cv'/>"
   ]
  },
  {
   "cell_type": "code",
   "execution_count": 18,
   "metadata": {
    "collapsed": false
   },
   "outputs": [],
   "source": [
    "def validationCurve(lambda_vec,  X, y, Xval, yval):\n",
    "    trainingCost = []\n",
    "    validCost = []\n",
    "    for lambda_val in lambda_vec:\n",
    "        trainModel(X, y, lambda_val)\n",
    "        trainingCost.append(model.calcLoss(lambda_val))\n",
    "        model.X_theano.set_value(Xval)\n",
    "        model.Y_theano.set_value(yval)\n",
    "        validCost.append(model.calcLoss(lambda_val))\n",
    "    return trainingCost, validCost"
   ]
  },
  {
   "cell_type": "code",
   "execution_count": 19,
   "metadata": {
    "collapsed": true
   },
   "outputs": [
    {
     "name": "stdout",
     "output_type": "stream",
     "text": [
      "Warning: Desired error not necessarily achieved due to precision loss.\n",
      "         Current function value: 3.469132\n",
      "         Iterations: 2\n",
      "         Function evaluations: 16\n",
      "         Gradient evaluations: 4\n",
      "training cost 0.00 s\n",
      "Warning: Desired error not necessarily achieved due to precision loss.\n",
      "         Current function value: 3.475268\n",
      "         Iterations: 2\n",
      "         Function evaluations: 16\n",
      "         Gradient evaluations: 4\n",
      "training cost 0.00 s\n",
      "Warning: Desired error not necessarily achieved due to precision loss.\n",
      "         Current function value: 3.487537\n",
      "         Iterations: 2\n",
      "         Function evaluations: 16\n",
      "         Gradient evaluations: 4\n",
      "training cost 0.00 s\n",
      "Warning: Desired error not necessarily achieved due to precision loss.\n",
      "         Current function value: 3.530467\n",
      "         Iterations: 2\n",
      "         Function evaluations: 16\n",
      "         Gradient evaluations: 4\n",
      "training cost 0.00 s\n",
      "Warning: Desired error not necessarily achieved due to precision loss.\n",
      "         Current function value: 3.653005\n",
      "         Iterations: 2\n",
      "         Function evaluations: 16\n",
      "         Gradient evaluations: 4\n",
      "training cost 0.00 s\n",
      "Warning: Desired error not necessarily achieved due to precision loss.\n",
      "         Current function value: 4.080489\n",
      "         Iterations: 2\n",
      "         Function evaluations: 16\n",
      "         Gradient evaluations: 4\n",
      "training cost 0.00 s\n",
      "Warning: Desired error not necessarily achieved due to precision loss.\n",
      "         Current function value: 5.289963\n",
      "         Iterations: 2\n",
      "         Function evaluations: 16\n",
      "         Gradient evaluations: 4\n",
      "training cost 0.01 s\n",
      "Warning: Desired error not necessarily achieved due to precision loss.\n",
      "         Current function value: 9.386972\n",
      "         Iterations: 2\n",
      "         Function evaluations: 16\n",
      "         Gradient evaluations: 4\n",
      "training cost 0.00 s\n",
      "Warning: Desired error not necessarily achieved due to precision loss.\n",
      "         Current function value: 19.995011\n",
      "         Iterations: 2\n",
      "         Function evaluations: 16\n",
      "         Gradient evaluations: 4\n",
      "training cost 0.00 s\n",
      "Warning: Desired error not necessarily achieved due to precision loss.\n",
      "         Current function value: 34.124232\n",
      "         Iterations: 3\n",
      "         Function evaluations: 18\n",
      "         Gradient evaluations: 6\n",
      "training cost 0.01 s\n"
     ]
    }
   ],
   "source": [
    "lambda_vec = [0, 0.001, 0.003, 0.01, 0.03, 0.1, 0.3, 1, 3, 10]\n",
    "trainingCost, validCost = validationCurve(lambda_vec, X_poly, y, X_poly_val, yval)"
   ]
  },
  {
   "cell_type": "code",
   "execution_count": 20,
   "metadata": {
    "collapsed": false
   },
   "outputs": [
    {
     "data": {
      "text/plain": [
       "<matplotlib.legend.Legend at 0x7f1910753e10>"
      ]
     },
     "execution_count": 20,
     "metadata": {},
     "output_type": "execute_result"
    },
    {
     "data": {
      "image/png": "[encoded data removed]",
      "text/plain": [
       "<matplotlib.figure.Figure at 0x7f19101b11d0>"
      ]
     },
     "metadata": {},
     "output_type": "display_data"
    }
   ],
   "source": [
    "plt.plot(lambda_vec, trainingCost, lambda_vec, validCost)\n",
    "plt.xlabel('Lambda')\n",
    "plt.ylabel('Error')\n",
    "plt.legend(['Train', 'Cross Validation'])"
   ]
  },
  {
   "cell_type": "markdown",
   "metadata": {},
   "source": [
    "### 计算测试集误差"
   ]
  },
  {
   "cell_type": "code",
   "execution_count": 21,
   "metadata": {
    "collapsed": false
   },
   "outputs": [
    {
     "name": "stdout",
     "output_type": "stream",
     "text": [
      "Warning: Desired error not necessarily achieved due to precision loss.\n",
      "         Current function value: 19.995011\n",
      "         Iterations: 2\n",
      "         Function evaluations: 16\n",
      "         Gradient evaluations: 4\n",
      "training cost 0.01 s\n"
     ]
    }
   ],
   "source": [
    "bestLambda = 3 # 由上图交叉点位置得到\n",
    "trainModel(X_poly, y, bestLambda)"
   ]
  },
  {
   "cell_type": "code",
   "execution_count": 22,
   "metadata": {
    "collapsed": false
   },
   "outputs": [
    {
     "data": {
      "text/plain": [
       "array(19.1304519204491)"
      ]
     },
     "execution_count": 22,
     "metadata": {},
     "output_type": "execute_result"
    }
   ],
   "source": [
    "model.X_theano.set_value(X_poly_test)\n",
    "model.Y_theano.set_value(ytest)\n",
    "model.calcLoss(bestLambda)"
   ]
  }
 ],
 "metadata": {
  "kernelspec": {
   "display_name": "Python 2",
   "language": "python",
   "name": "python2"
  },
  "language_info": {
   "codemirror_mode": {
    "name": "ipython",
    "version": 2
   },
   "file_extension": ".py",
   "mimetype": "text/x-python",
   "name": "python",
   "nbconvert_exporter": "python",
   "pygments_lexer": "ipython2",
   "version": "2.7.11"
  }
 },
 "nbformat": 4,
 "nbformat_minor": 0
}
